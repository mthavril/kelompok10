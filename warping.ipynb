{
  "nbformat": 4,
  "nbformat_minor": 0,
  "metadata": {
    "colab": {
      "provenance": []
    },
    "kernelspec": {
      "name": "python3",
      "display_name": "Python 3"
    },
    "language_info": {
      "name": "python"
    }
  },
  "cells": [
    {
      "cell_type": "code",
      "source": [],
      "metadata": {
        "id": "VwBwBFtA2Ti5"
      },
      "execution_count": null,
      "outputs": []
    },
    {
      "cell_type": "markdown",
      "source": [
        "**Image Warping**"
      ],
      "metadata": {
        "id": "K5rV4O_q10fT"
      }
    },
    {
      "cell_type": "code",
      "execution_count": 2,
      "metadata": {
        "id": "Qp1UoinjXDFA"
      },
      "outputs": [],
      "source": [
        "from PIL import Image\n",
        "import math\n",
        "\n",
        "def vector_length(vector):\n",
        "  return math.sqrt(vector[0] ** 2 + vector[1] ** 2)\n",
        "\n",
        "def points_distance(point1, point2):\n",
        "  return vector_length((point1[0] - point2[0],point1[1] - point2[1]))\n",
        "\n",
        "def clamp(value, minimum, maximum):\n",
        "  return max(min(value,maximum),minimum)\n",
        "\n",
        "## Warps an image accoording to given points and shift vectors.\n",
        "#\n",
        "#  @param image input image\n",
        "#  @param points list of (x, y, dx, dy) tuples\n",
        "#  @return warped image\n",
        "\n",
        "def warp(image, points):\n",
        "  result = img = Image.new(\"RGB\",image.size,\"black\")\n",
        "\n",
        "  image_pixels = image.load()\n",
        "  result_pixels = result.load()\n",
        "\n",
        "  for y in range(image.size[1]):\n",
        "    for x in range(image.size[0]):\n",
        "\n",
        "      offset = [0,0]\n",
        "\n",
        "      for point in points:\n",
        "        point_position = (point[0] + point[2],point[1] + point[3])\n",
        "        shift_vector = (point[2],point[3])\n",
        "\n",
        "        helper = 1.0 / (3 * (points_distance((x,y),point_position) / vector_length(shift_vector)) ** 4 + 1)\n",
        "\n",
        "        offset[0] -= helper * shift_vector[0]\n",
        "        offset[1] -= helper * shift_vector[1]\n",
        "\n",
        "      coords = (clamp(x + int(offset[0]),0,image.size[0] - 1),clamp(y + int(offset[1]),0,image.size[1] - 1))\n",
        "\n",
        "      result_pixels[x,y] = image_pixels[coords[0],coords[1]]\n",
        "\n",
        "  return result\n",
        "\n",
        "image = Image.open(\"nana.jpg\")\n",
        "image = warp(image,[(210,296,100,0), (101,97,-30,-10), (77,473,50,-100)])\n",
        "image.save(\"output.png\",\"PNG\")"
      ]
    }
  ]
}